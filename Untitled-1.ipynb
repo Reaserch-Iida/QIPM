{
 "cells": [
  {
   "cell_type": "code",
   "execution_count": 7,
   "metadata": {},
   "outputs": [],
   "source": [
    "import numpy as np\n",
    "from qiskit import QuantumCircuit\n",
    "from qiskit.algorithms.linear_solvers.hhl import HHL\n",
    "from qiskit.algorithms.linear_solvers.matrices import TridiagonalToeplitz, NumPyMatrix\n",
    "from qiskit.algorithms.linear_solvers.observables import MatrixFunctional"
   ]
  },
  {
   "cell_type": "code",
   "execution_count": 2,
   "metadata": {},
   "outputs": [],
   "source": [
    "matrix = TridiagonalToeplitz(2, 1, 1 / 3, trotter_steps=2)\n",
    "right_hand_side = [1.0, -2.1, 3.2, -4.3]\n",
    "observable = MatrixFunctional(1, 1 / 2)\n",
    "rhs = right_hand_side / np.linalg.norm(right_hand_side)\n",
    "\n",
    "# Initial state circuit\n",
    "num_qubits = matrix.num_state_qubits\n",
    "qc = QuantumCircuit(num_qubits)\n",
    "qc.isometry(rhs, list(range(num_qubits)), None)\n",
    "\n",
    "hhl = HHL()\n",
    "solution = hhl.solve(matrix, qc, observable)\n",
    "approx_result = solution.observable"
   ]
  },
  {
   "cell_type": "code",
   "execution_count": 3,
   "metadata": {},
   "outputs": [
    {
     "data": {
      "text/plain": [
       "0.9332417131213595"
      ]
     },
     "execution_count": 3,
     "metadata": {},
     "output_type": "execute_result"
    }
   ],
   "source": [
    "approx_result"
   ]
  },
  {
   "cell_type": "code",
   "execution_count": 8,
   "metadata": {},
   "outputs": [],
   "source": [
    "matrix = NumPyMatrix(np.array([[1,1],[1,2]]))\n",
    "rhs = [3,4]"
   ]
  },
  {
   "cell_type": "code",
   "execution_count": 11,
   "metadata": {},
   "outputs": [
    {
     "ename": "UnboundLocalError",
     "evalue": "local variable 'nb' referenced before assignment",
     "output_type": "error",
     "traceback": [
      "\u001b[1;31m---------------------------------------------------------------------------\u001b[0m",
      "\u001b[1;31mUnboundLocalError\u001b[0m                         Traceback (most recent call last)",
      "Cell \u001b[1;32mIn[11], line 2\u001b[0m\n\u001b[0;32m      1\u001b[0m hhl \u001b[39m=\u001b[39m HHL()\n\u001b[1;32m----> 2\u001b[0m solution \u001b[39m=\u001b[39m hhl\u001b[39m.\u001b[39;49msolve(matrix, rhs)\n\u001b[0;32m      3\u001b[0m solution\u001b[39m.\u001b[39mobservable\n",
      "File \u001b[1;32mc:\\Users\\ideru\\github\\research\\QIPM\\.venv\\lib\\site-packages\\qiskit\\algorithms\\linear_solvers\\hhl.py:475\u001b[0m, in \u001b[0;36mHHL.solve\u001b[1;34m(self, matrix, vector, observable, observable_circuit, post_processing)\u001b[0m\n\u001b[0;32m    471\u001b[0m         \u001b[39mraise\u001b[39;00m \u001b[39mValueError\u001b[39;00m(\u001b[39m'\u001b[39m\u001b[39mIf observable is passed, observable_circuit and post_processing \u001b[39m\u001b[39m'\u001b[39m\n\u001b[0;32m    472\u001b[0m                          \u001b[39m'\u001b[39m\u001b[39mcannot be set.\u001b[39m\u001b[39m'\u001b[39m)\n\u001b[0;32m    474\u001b[0m solution \u001b[39m=\u001b[39m LinearSolverResult()\n\u001b[1;32m--> 475\u001b[0m solution\u001b[39m.\u001b[39mstate \u001b[39m=\u001b[39m \u001b[39mself\u001b[39;49m\u001b[39m.\u001b[39;49mconstruct_circuit(matrix, vector)\n\u001b[0;32m    476\u001b[0m solution\u001b[39m.\u001b[39meuclidean_norm \u001b[39m=\u001b[39m \u001b[39mself\u001b[39m\u001b[39m.\u001b[39m_calculate_norm(solution\u001b[39m.\u001b[39mstate)\n\u001b[0;32m    478\u001b[0m \u001b[39mif\u001b[39;00m observable \u001b[39mis\u001b[39;00m \u001b[39mnot\u001b[39;00m \u001b[39mNone\u001b[39;00m \u001b[39mor\u001b[39;00m observable_circuit \u001b[39mis\u001b[39;00m \u001b[39mnot\u001b[39;00m \u001b[39mNone\u001b[39;00m:\n",
      "File \u001b[1;32mc:\\Users\\ideru\\github\\research\\QIPM\\.venv\\lib\\site-packages\\qiskit\\algorithms\\linear_solvers\\hhl.py:359\u001b[0m, in \u001b[0;36mHHL.construct_circuit\u001b[1;34m(self, matrix, vector)\u001b[0m\n\u001b[0;32m    357\u001b[0m     kappa \u001b[39m=\u001b[39m \u001b[39m1\u001b[39m\n\u001b[0;32m    358\u001b[0m \u001b[39m# Update the number of qubits required to represent the eigenvalues\u001b[39;00m\n\u001b[1;32m--> 359\u001b[0m nl \u001b[39m=\u001b[39m \u001b[39mmax\u001b[39m(nb \u001b[39m+\u001b[39m \u001b[39m1\u001b[39m, \u001b[39mint\u001b[39m(np\u001b[39m.\u001b[39mlog2(kappa)) \u001b[39m+\u001b[39m \u001b[39m1\u001b[39m)\n\u001b[0;32m    361\u001b[0m \u001b[39m# check if the matrix can calculate bounds for the eigenvalues\u001b[39;00m\n\u001b[0;32m    362\u001b[0m \u001b[39mif\u001b[39;00m \u001b[39mhasattr\u001b[39m(matrix_circuit, \u001b[39m\"\u001b[39m\u001b[39meigs_bounds\u001b[39m\u001b[39m\"\u001b[39m) \u001b[39mand\u001b[39;00m matrix_circuit\u001b[39m.\u001b[39meigs_bounds() \u001b[39mis\u001b[39;00m \u001b[39mnot\u001b[39;00m \u001b[39mNone\u001b[39;00m:\n",
      "\u001b[1;31mUnboundLocalError\u001b[0m: local variable 'nb' referenced before assignment"
     ]
    }
   ],
   "source": [
    "hhl = HHL()\n",
    "solution = hhl.solve(matrix, rhs)\n",
    "solution.observable"
   ]
  },
  {
   "cell_type": "code",
   "execution_count": null,
   "metadata": {},
   "outputs": [],
   "source": []
  }
 ],
 "metadata": {
  "kernelspec": {
   "display_name": ".venv",
   "language": "python",
   "name": "python3"
  },
  "language_info": {
   "codemirror_mode": {
    "name": "ipython",
    "version": 3
   },
   "file_extension": ".py",
   "mimetype": "text/x-python",
   "name": "python",
   "nbconvert_exporter": "python",
   "pygments_lexer": "ipython3",
   "version": "3.8.10"
  },
  "orig_nbformat": 4
 },
 "nbformat": 4,
 "nbformat_minor": 2
}
