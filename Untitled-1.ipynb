{
 "cells": [
  {
   "attachments": {},
   "cell_type": "markdown",
   "metadata": {},
   "source": [
    "# qiskit のAPI使って Linear System 解く"
   ]
  },
  {
   "cell_type": "code",
   "execution_count": 1,
   "metadata": {},
   "outputs": [],
   "source": [
    "import numpy as np\n",
    "from qiskit import QuantumCircuit\n",
    "from qiskit.algorithms.linear_solvers import HHL, NumPyLinearSolver\n",
    "from qiskit.algorithms.linear_solvers.matrices import TridiagonalToeplitz\n",
    "from qiskit.algorithms.linear_solvers.observables import MatrixFunctional\n",
    "from qiskit.quantum_info import Statevector"
   ]
  },
  {
   "attachments": {},
   "cell_type": "markdown",
   "metadata": {},
   "source": [
    "## 教科書通りのやり方でやってみる\n",
    "教科書 : [HHL の API に関するページ](https://qiskit.org/documentation/stable/0.35/stubs/qiskit.algorithms.linear_solvers.HHL.html#qiskit.algorithms.linear_solvers.HHL)"
   ]
  },
  {
   "cell_type": "code",
   "execution_count": 2,
   "metadata": {},
   "outputs": [],
   "source": [
    "matrix = TridiagonalToeplitz(2, 1, 1 / 3, trotter_steps=2)\n",
    "right_hand_side = [1.0, -2.1, 3.2, -4.3]\n",
    "rhs = right_hand_side / np.linalg.norm(right_hand_side)"
   ]
  },
  {
   "attachments": {},
   "cell_type": "markdown",
   "metadata": {},
   "source": [
    "### numpy に解かせた場合"
   ]
  },
  {
   "cell_type": "code",
   "execution_count": 3,
   "metadata": {},
   "outputs": [],
   "source": [
    "classical_solution = NumPyLinearSolver().solve(matrix, rhs)"
   ]
  },
  {
   "cell_type": "code",
   "execution_count": 4,
   "metadata": {},
   "outputs": [
    {
     "data": {
      "text/plain": [
       "array([ 0.48263337, -0.93446036,  1.24252422, -1.15010506])"
      ]
     },
     "execution_count": 4,
     "metadata": {},
     "output_type": "execute_result"
    }
   ],
   "source": [
    "# 厳密解\n",
    "classical_solution.state"
   ]
  },
  {
   "cell_type": "code",
   "execution_count": 5,
   "metadata": {},
   "outputs": [],
   "source": [
    "# 確認\n",
    "assert np.allclose(matrix.matrix @ classical_solution.state, rhs)"
   ]
  },
  {
   "attachments": {},
   "cell_type": "markdown",
   "metadata": {},
   "source": [
    "### HHL に解かせた場合"
   ]
  },
  {
   "cell_type": "code",
   "execution_count": 6,
   "metadata": {},
   "outputs": [],
   "source": [
    "# Initial state circuit\n",
    "num_qubits = matrix.num_state_qubits\n",
    "qc = QuantumCircuit(num_qubits)\n",
    "qc.isometry(rhs, list(range(num_qubits)), None)\n",
    "\n",
    "hhl = HHL()\n",
    "observable = MatrixFunctional(1, 1 / 2)\n",
    "solution = hhl.solve(matrix, qc, observable)\n",
    "approx_result = solution.observable"
   ]
  },
  {
   "cell_type": "code",
   "execution_count": 7,
   "metadata": {},
   "outputs": [
    {
     "data": {
      "text/plain": [
       "0.9332417131213595"
      ]
     },
     "execution_count": 7,
     "metadata": {},
     "output_type": "execute_result"
    }
   ],
   "source": [
    "approx_result"
   ]
  },
  {
   "attachments": {},
   "cell_type": "markdown",
   "metadata": {},
   "source": [
    "確率的にいくつくらい, という値\n",
    "0.93なので 93%でこの値, 残り7%は別である可能性あり"
   ]
  },
  {
   "cell_type": "code",
   "execution_count": 8,
   "metadata": {},
   "outputs": [
    {
     "name": "stdout",
     "output_type": "stream",
     "text": [
      "      ┌────────────┐┌──────┐        ┌─────────┐\n",
      "q0_0: ┤0           ├┤3     ├────────┤3        ├\n",
      "      │  circuit-7 ││      │        │         │\n",
      "q0_1: ┤1           ├┤4     ├────────┤4        ├\n",
      "      └────────────┘│      │┌──────┐│         │\n",
      "q1_0: ──────────────┤0     ├┤2     ├┤0        ├\n",
      "                    │  QPE ││      ││  QPE_dg │\n",
      "q1_1: ──────────────┤1     ├┤1     ├┤1        ├\n",
      "                    │      ││      ││         │\n",
      "q1_2: ──────────────┤2     ├┤0 1/x ├┤2        ├\n",
      "                    │      ││      ││         │\n",
      "a1_0: ──────────────┤5     ├┤      ├┤5        ├\n",
      "                    └──────┘│      │└─────────┘\n",
      "q2_0: ──────────────────────┤3     ├───────────\n",
      "                            └──────┘           \n"
     ]
    }
   ],
   "source": [
    "print(solution.state)"
   ]
  },
  {
   "attachments": {},
   "cell_type": "markdown",
   "metadata": {},
   "source": [
    "#### euclidean_norm の比較"
   ]
  },
  {
   "cell_type": "code",
   "execution_count": 9,
   "metadata": {},
   "outputs": [
    {
     "ename": "AssertionError",
     "evalue": "",
     "output_type": "error",
     "traceback": [
      "\u001b[1;31m---------------------------------------------------------------------------\u001b[0m",
      "\u001b[1;31mAssertionError\u001b[0m                            Traceback (most recent call last)",
      "Cell \u001b[1;32mIn[9], line 1\u001b[0m\n\u001b[1;32m----> 1\u001b[0m \u001b[39massert\u001b[39;00m np\u001b[39m.\u001b[39misclose(classical_solution\u001b[39m.\u001b[39meuclidean_norm, solution\u001b[39m.\u001b[39meuclidean_norm)\n",
      "\u001b[1;31mAssertionError\u001b[0m: "
     ]
    }
   ],
   "source": [
    "assert np.isclose(classical_solution.euclidean_norm, solution.euclidean_norm)"
   ]
  },
  {
   "cell_type": "code",
   "execution_count": 12,
   "metadata": {},
   "outputs": [
    {
     "data": {
      "text/plain": [
       "1.993178172345245"
      ]
     },
     "execution_count": 12,
     "metadata": {},
     "output_type": "execute_result"
    }
   ],
   "source": [
    "classical_solution.euclidean_norm"
   ]
  },
  {
   "cell_type": "code",
   "execution_count": 11,
   "metadata": {},
   "outputs": [
    {
     "data": {
      "text/plain": [
       "1.9932457102139078"
      ]
     },
     "execution_count": 11,
     "metadata": {},
     "output_type": "execute_result"
    }
   ],
   "source": [
    "solution.euclidean_norm"
   ]
  },
  {
   "attachments": {},
   "cell_type": "markdown",
   "metadata": {},
   "source": [
    "違う解が出ている?"
   ]
  },
  {
   "attachments": {},
   "cell_type": "markdown",
   "metadata": {},
   "source": [
    "#### ベクトルの抽出"
   ]
  },
  {
   "cell_type": "code",
   "execution_count": 13,
   "metadata": {},
   "outputs": [
    {
     "data": {
      "text/plain": [
       "array([ 7.75764636e-02+7.76180747e-02j, -9.41907679e-02-9.41487484e-02j,\n",
       "        5.59633349e-03+5.55553915e-03j,  2.39084852e-01+2.39043649e-01j,\n",
       "        3.02812013e-03-3.20485486e-03j, -6.70127161e-03+6.59231668e-03j,\n",
       "       -2.82666969e-03+2.94148010e-03j,  9.39318679e-03-9.21257756e-03j,\n",
       "        2.39930029e-02-2.39853466e-02j, -1.31621432e-02+1.31662719e-02j,\n",
       "       -1.43473515e-02+1.43477788e-02j,  2.24475329e-02-2.24545454e-02j,\n",
       "        1.69133537e-02+1.69489483e-02j, -8.97389595e-03-8.95572174e-03j,\n",
       "       -1.20039965e-02-1.20366201e-02j,  1.20364681e-02+1.19906648e-02j,\n",
       "        9.86997540e-04-1.00385359e-03j,  2.51672613e-03-2.53962458e-03j,\n",
       "        2.35784984e-04-2.31013732e-04j, -1.24842673e-03+1.25924038e-03j,\n",
       "        1.49760038e-03+1.45042084e-03j,  1.54395687e-03+1.52262045e-03j,\n",
       "       -5.50601303e-03-5.45459924e-03j, -9.82560396e-03-9.75652795e-03j,\n",
       "       -1.41653942e-02-1.41606775e-02j,  9.39687598e-03+9.39027730e-03j,\n",
       "        9.61773319e-03+9.60309434e-03j, -1.36324947e-02-1.36400823e-02j,\n",
       "        1.66808662e-02-1.67287926e-02j, -4.11429263e-03+4.07433589e-03j,\n",
       "       -7.11206110e-03+7.11266142e-03j,  1.18662344e-02-1.18493996e-02j,\n",
       "        0.00000000e+00+0.00000000e+00j,  0.00000000e+00+0.00000000e+00j,\n",
       "        0.00000000e+00+0.00000000e+00j,  0.00000000e+00+0.00000000e+00j,\n",
       "        0.00000000e+00+0.00000000e+00j,  0.00000000e+00+0.00000000e+00j,\n",
       "        0.00000000e+00+0.00000000e+00j,  0.00000000e+00+0.00000000e+00j,\n",
       "        0.00000000e+00+0.00000000e+00j,  0.00000000e+00+0.00000000e+00j,\n",
       "        0.00000000e+00+0.00000000e+00j,  0.00000000e+00+0.00000000e+00j,\n",
       "        0.00000000e+00+0.00000000e+00j,  0.00000000e+00+0.00000000e+00j,\n",
       "        0.00000000e+00+0.00000000e+00j,  0.00000000e+00+0.00000000e+00j,\n",
       "        0.00000000e+00+0.00000000e+00j,  0.00000000e+00+0.00000000e+00j,\n",
       "        0.00000000e+00+0.00000000e+00j,  0.00000000e+00+0.00000000e+00j,\n",
       "        0.00000000e+00+0.00000000e+00j,  0.00000000e+00+0.00000000e+00j,\n",
       "        0.00000000e+00+0.00000000e+00j,  0.00000000e+00+0.00000000e+00j,\n",
       "        0.00000000e+00+0.00000000e+00j,  0.00000000e+00+0.00000000e+00j,\n",
       "        0.00000000e+00+0.00000000e+00j,  0.00000000e+00+0.00000000e+00j,\n",
       "        0.00000000e+00+0.00000000e+00j,  0.00000000e+00+0.00000000e+00j,\n",
       "        0.00000000e+00+0.00000000e+00j,  0.00000000e+00+0.00000000e+00j,\n",
       "       -1.58954377e-01-1.58975687e-01j,  3.03593046e-01+3.03569927e-01j,\n",
       "       -4.03902658e-01-4.03884968e-01j,  3.75467468e-01+3.75486968e-01j,\n",
       "        3.63068785e-03-3.46588984e-03j,  3.00222825e-03-2.89933680e-03j,\n",
       "       -3.76755818e-03+3.65563455e-03j, -7.38697314e-03+7.21385416e-03j,\n",
       "       -2.28757467e-02+2.28780129e-02j,  1.22938581e-02-1.22913791e-02j,\n",
       "        1.31926465e-02-1.32048187e-02j, -2.17093098e-02+2.17045987e-02j,\n",
       "       -2.13197821e-02-2.13197210e-02j,  1.13531160e-02+1.13591020e-02j,\n",
       "        1.38538519e-02+1.38661331e-02j, -1.73738550e-02-1.73595734e-02j,\n",
       "       -6.27252409e-03+6.28117765e-03j,  3.40265268e-03-3.39291236e-03j,\n",
       "        3.64871931e-03-3.65519935e-03j, -6.97562573e-03+6.96805892e-03j,\n",
       "       -9.12912345e-03-9.07013170e-03j,  2.91684123e-03+2.95503502e-03j,\n",
       "        8.70253173e-03+8.66940500e-03j,  4.49610287e-06-4.80730957e-05j,\n",
       "       -1.40483899e-03-1.40110467e-03j, -2.44564401e-03-2.43053352e-03j,\n",
       "       -1.94577807e-03-1.93690752e-03j, -1.05678826e-03-1.05631027e-03j,\n",
       "       -7.43351584e-03+7.46118023e-03j,  1.04034567e-03-1.02214405e-03j,\n",
       "       -2.80392774e-04+2.78380038e-04j, -9.56730679e-03+9.56057515e-03j,\n",
       "        0.00000000e+00+0.00000000e+00j,  0.00000000e+00+0.00000000e+00j,\n",
       "        0.00000000e+00+0.00000000e+00j,  0.00000000e+00+0.00000000e+00j,\n",
       "        0.00000000e+00+0.00000000e+00j,  0.00000000e+00+0.00000000e+00j,\n",
       "        0.00000000e+00+0.00000000e+00j,  0.00000000e+00+0.00000000e+00j,\n",
       "        0.00000000e+00+0.00000000e+00j,  0.00000000e+00+0.00000000e+00j,\n",
       "        0.00000000e+00+0.00000000e+00j,  0.00000000e+00+0.00000000e+00j,\n",
       "        0.00000000e+00+0.00000000e+00j,  0.00000000e+00+0.00000000e+00j,\n",
       "        0.00000000e+00+0.00000000e+00j,  0.00000000e+00+0.00000000e+00j,\n",
       "        0.00000000e+00+0.00000000e+00j,  0.00000000e+00+0.00000000e+00j,\n",
       "        0.00000000e+00+0.00000000e+00j,  0.00000000e+00+0.00000000e+00j,\n",
       "        0.00000000e+00+0.00000000e+00j,  0.00000000e+00+0.00000000e+00j,\n",
       "        0.00000000e+00+0.00000000e+00j,  0.00000000e+00+0.00000000e+00j,\n",
       "        0.00000000e+00+0.00000000e+00j,  0.00000000e+00+0.00000000e+00j,\n",
       "        0.00000000e+00+0.00000000e+00j,  0.00000000e+00+0.00000000e+00j,\n",
       "        0.00000000e+00+0.00000000e+00j,  0.00000000e+00+0.00000000e+00j,\n",
       "        0.00000000e+00+0.00000000e+00j,  0.00000000e+00+0.00000000e+00j])"
      ]
     },
     "execution_count": 13,
     "metadata": {},
     "output_type": "execute_result"
    }
   ],
   "source": [
    "naive_sv =  Statevector(solution.state).data\n",
    "naive_sv"
   ]
  },
  {
   "attachments": {},
   "cell_type": "markdown",
   "metadata": {},
   "source": [
    "どこの部分が対応する...?\n",
    "[qiskit の linear system solver に関するページ](https://learn.qiskit.org/course/ch-applications/solving-linear-systems-of-equations-using-hhl-and-its-qiskit-implementation#implementation)によると16ビット目以降?"
   ]
  },
  {
   "cell_type": "code",
   "execution_count": 18,
   "metadata": {},
   "outputs": [
    {
     "data": {
      "text/plain": [
       "64"
      ]
     },
     "execution_count": 18,
     "metadata": {},
     "output_type": "execute_result"
    }
   ],
   "source": [
    "index = int(len(naive_sv) / 2)\n",
    "index"
   ]
  },
  {
   "cell_type": "code",
   "execution_count": 25,
   "metadata": {},
   "outputs": [
    {
     "data": {
      "text/plain": [
       "array([-0.48798852,  0.93202794, -1.23997755,  1.15268177])"
      ]
     },
     "execution_count": 25,
     "metadata": {},
     "output_type": "execute_result"
    }
   ],
   "source": [
    "naive_full_vector = np.real(naive_sv[index:index + len(rhs)])\n",
    "hhl_sol_vec = solution.euclidean_norm * naive_full_vector / np.linalg.norm(naive_full_vector)\n",
    "hhl_sol_vec"
   ]
  },
  {
   "cell_type": "code",
   "execution_count": 21,
   "metadata": {},
   "outputs": [
    {
     "data": {
      "text/plain": [
       "array([ 0.48263337, -0.93446036,  1.24252422, -1.15010506])"
      ]
     },
     "execution_count": 21,
     "metadata": {},
     "output_type": "execute_result"
    }
   ],
   "source": [
    "classical_solution.state"
   ]
  },
  {
   "attachments": {},
   "cell_type": "markdown",
   "metadata": {},
   "source": [
    "厳密解とは全く異なるっぽいが..."
   ]
  },
  {
   "cell_type": "code",
   "execution_count": 22,
   "metadata": {},
   "outputs": [
    {
     "data": {
      "text/plain": [
       "array([-0.17731254,  0.35603925, -0.54507431,  0.73935592])"
      ]
     },
     "execution_count": 22,
     "metadata": {},
     "output_type": "execute_result"
    }
   ],
   "source": [
    "matrix.matrix @ hhl_sol_vec"
   ]
  },
  {
   "cell_type": "code",
   "execution_count": 23,
   "metadata": {},
   "outputs": [
    {
     "data": {
      "text/plain": [
       "array([ 0.17114659, -0.35940783,  0.54766908, -0.73593032])"
      ]
     },
     "execution_count": 23,
     "metadata": {},
     "output_type": "execute_result"
    }
   ],
   "source": [
    "rhs"
   ]
  },
  {
   "cell_type": "code",
   "execution_count": 20,
   "metadata": {},
   "outputs": [
    {
     "ename": "AssertionError",
     "evalue": "",
     "output_type": "error",
     "traceback": [
      "\u001b[1;31m---------------------------------------------------------------------------\u001b[0m",
      "\u001b[1;31mAssertionError\u001b[0m                            Traceback (most recent call last)",
      "Cell \u001b[1;32mIn[20], line 2\u001b[0m\n\u001b[0;32m      1\u001b[0m \u001b[39m# 確認\u001b[39;00m\n\u001b[1;32m----> 2\u001b[0m \u001b[39massert\u001b[39;00m np\u001b[39m.\u001b[39mallclose(matrix\u001b[39m.\u001b[39mmatrix \u001b[39m@\u001b[39m hhl_sol_vec, rhs)\n",
      "\u001b[1;31mAssertionError\u001b[0m: "
     ]
    }
   ],
   "source": [
    "# 確認\n",
    "assert np.allclose(matrix.matrix @ hhl_sol_vec, rhs)"
   ]
  },
  {
   "attachments": {},
   "cell_type": "markdown",
   "metadata": {},
   "source": [
    "全然あってないっぽい"
   ]
  },
  {
   "attachments": {},
   "cell_type": "markdown",
   "metadata": {},
   "source": [
    "## 簡単な行列式を解く"
   ]
  },
  {
   "cell_type": "code",
   "execution_count": 26,
   "metadata": {},
   "outputs": [],
   "source": [
    "A = np.array([[1,1],[1,2]])\n",
    "b = np.array([3,4])"
   ]
  },
  {
   "cell_type": "code",
   "execution_count": 27,
   "metadata": {},
   "outputs": [],
   "source": [
    "normalize_coef \t= np.linalg.norm(b)\n",
    "normalized_A = A / normalize_coef\n",
    "normalized_b = b / normalize_coef"
   ]
  },
  {
   "attachments": {},
   "cell_type": "markdown",
   "metadata": {},
   "source": [
    "### numpy に解かせた場合"
   ]
  },
  {
   "cell_type": "code",
   "execution_count": 28,
   "metadata": {},
   "outputs": [],
   "source": [
    "classical_solution = NumPyLinearSolver().solve(normalized_A, normalized_b)"
   ]
  },
  {
   "cell_type": "code",
   "execution_count": 29,
   "metadata": {},
   "outputs": [
    {
     "data": {
      "text/plain": [
       "array([2., 1.])"
      ]
     },
     "execution_count": 29,
     "metadata": {},
     "output_type": "execute_result"
    }
   ],
   "source": [
    "# 厳密解\n",
    "classical_solution.state"
   ]
  },
  {
   "cell_type": "code",
   "execution_count": 30,
   "metadata": {},
   "outputs": [
    {
     "data": {
      "text/plain": [
       "4.999999999999998"
      ]
     },
     "execution_count": 30,
     "metadata": {},
     "output_type": "execute_result"
    }
   ],
   "source": [
    "classical_solution.euclidean_norm ** 2"
   ]
  },
  {
   "cell_type": "code",
   "execution_count": 31,
   "metadata": {},
   "outputs": [],
   "source": [
    "# 確認\n",
    "assert np.allclose(normalized_A @ classical_solution.state, normalized_b)"
   ]
  },
  {
   "attachments": {},
   "cell_type": "markdown",
   "metadata": {},
   "source": [
    "### HHLに解かせてみる"
   ]
  },
  {
   "cell_type": "code",
   "execution_count": 32,
   "metadata": {},
   "outputs": [],
   "source": [
    "sol = HHL().solve(normalized_A, normalized_b)"
   ]
  },
  {
   "cell_type": "code",
   "execution_count": 33,
   "metadata": {},
   "outputs": [
    {
     "data": {
      "text/plain": [
       "5.731830900224212"
      ]
     },
     "execution_count": 33,
     "metadata": {},
     "output_type": "execute_result"
    }
   ],
   "source": [
    "sol.euclidean_norm ** 2"
   ]
  },
  {
   "attachments": {},
   "cell_type": "markdown",
   "metadata": {},
   "source": [
    "正しい解は $\n",
    "  x = \\left[ \\begin{array}{c}\n",
    "    2 \\\\\n",
    "    1\n",
    "  \\end{array} \\right]\n",
    "$ なので euclidean_norm は　$\\sqrt{5}$ では...?"
   ]
  },
  {
   "attachments": {},
   "cell_type": "markdown",
   "metadata": {},
   "source": [
    "### QIPM のコードを参考に構築してみる"
   ]
  },
  {
   "cell_type": "code",
   "execution_count": 35,
   "metadata": {},
   "outputs": [],
   "source": [
    "from qiskit import BasicAer"
   ]
  },
  {
   "cell_type": "code",
   "execution_count": 36,
   "metadata": {},
   "outputs": [],
   "source": [
    "backend \t\t= BasicAer.get_backend('statevector_simulator')\n",
    "hhl \t\t\t= HHL(quantum_instance=backend)\n",
    "hhl_solution \t= hhl.solve(normalized_A, normalized_b)"
   ]
  },
  {
   "cell_type": "code",
   "execution_count": 37,
   "metadata": {},
   "outputs": [
    {
     "data": {
      "text/plain": [
       "5.731830900224212"
      ]
     },
     "execution_count": 37,
     "metadata": {},
     "output_type": "execute_result"
    }
   ],
   "source": [
    "hhl_solution.euclidean_norm ** 2"
   ]
  },
  {
   "cell_type": "code",
   "execution_count": 38,
   "metadata": {},
   "outputs": [
    {
     "data": {
      "text/plain": [
       "array([ 5.54007034e-01,  7.92123076e-01, -1.29091653e-16, -2.13230177e-16,\n",
       "       -2.00448394e-16, -1.61028399e-16, -2.50150048e-02, -4.70709702e-02,\n",
       "       -2.89728926e-16, -3.43318272e-16,  2.48442599e-02,  2.70317818e-02,\n",
       "       -1.28259227e-02, -4.70043197e-02,  8.83461197e-17,  2.41576037e-17,\n",
       "        1.26868576e-01,  1.31737917e-01, -4.10971981e-17, -5.43887658e-17,\n",
       "       -4.42006761e-17, -7.17097128e-18,  3.62077272e-02,  6.40416203e-02,\n",
       "       -4.59926515e-17, -5.82957630e-17, -7.46582441e-03, -4.70538957e-03,\n",
       "        1.39191960e-02,  3.50376396e-02,  1.62395376e-17, -2.08500161e-17])"
      ]
     },
     "execution_count": 38,
     "metadata": {},
     "output_type": "execute_result"
    }
   ],
   "source": [
    "naive_sv \t\t= np.real(Statevector(hhl_solution.state).data)\n",
    "naive_sv"
   ]
  },
  {
   "attachments": {},
   "cell_type": "markdown",
   "metadata": {},
   "source": [
    "そもそもまともな解が出ていない可能性あり"
   ]
  },
  {
   "cell_type": "code",
   "execution_count": 39,
   "metadata": {},
   "outputs": [
    {
     "data": {
      "text/plain": [
       "array([0.12686858, 0.13173792])"
      ]
     },
     "execution_count": 39,
     "metadata": {},
     "output_type": "execute_result"
    }
   ],
   "source": [
    "ind \t\t\t= int(len(naive_sv)/2)\n",
    "ind2 \t\t\t= 0 if len(b) >= int(len(b)/2) else int(len(b)/2)\n",
    "\n",
    "solution \t\t=  np.array(naive_sv[ind: ind+len(b)])[ind2: ind2+len(b)]\n",
    "solution"
   ]
  },
  {
   "attachments": {},
   "cell_type": "markdown",
   "metadata": {},
   "source": [
    "比率がどう考えてもおかしい"
   ]
  },
  {
   "cell_type": "code",
   "execution_count": null,
   "metadata": {},
   "outputs": [],
   "source": []
  }
 ],
 "metadata": {
  "kernelspec": {
   "display_name": ".venv",
   "language": "python",
   "name": "python3"
  },
  "language_info": {
   "codemirror_mode": {
    "name": "ipython",
    "version": 3
   },
   "file_extension": ".py",
   "mimetype": "text/x-python",
   "name": "python",
   "nbconvert_exporter": "python",
   "pygments_lexer": "ipython3",
   "version": "3.8.10"
  },
  "orig_nbformat": 4
 },
 "nbformat": 4,
 "nbformat_minor": 2
}
